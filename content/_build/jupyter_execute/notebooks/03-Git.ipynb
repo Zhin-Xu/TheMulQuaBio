{
 "cells": [
  {
   "cell_type": "markdown",
   "metadata": {},
   "source": [
    "# Version control with Git"
   ]
  },
  {
   "cell_type": "markdown",
   "metadata": {},
   "source": [
    "## Introduction\n",
    "\n",
    "Version control, also known as revision control or source control, is the management and tracking of changes to computer code and other certain other types of data in an automated way.\n",
    "\n",
    "Any project (collections of files in directories) under version control has changes and additions/deletions to its files and directories recorded and archived over time so that you can recall specific versions later. \n",
    "\n",
    "Version control is in fact the technology embedded in the versioning of various word processor and spreadsheet applications (e.g., Google Docs, Overleaf).\n",
    "\n",
    "---\n",
    ":::{figure-md} VC-overview\n",
    "<img src=\"./graphics/VC.png\" alt=\"Version control\" width=\"400px\">\n",
    "\n",
    "**An overview of how version control works.** Some of the project mainline's branches may eventually be merged back into the mainline if they are successful in achieving some objective that is worth integrating into the mainline.\n",
    ":::\n",
    "\n",
    "---\n",
    "\n",
    "## Why Version Control?\n",
    "\n",
    "With version control of biological computing projects, you can:\n",
    "\n",
    "1. record all changes made to a set of files and directories, including text (usually ASCII) data files, so that you can access any previous version of the files\n",
    "\n",
    "* \"roll back\" data, code, documents that are in plain text format (other file formats can also be versioned; see [section on binary files](#Dealing-with-binary-files) below).\n",
    "\n",
    "* collaborate more easily with others on developing new code or writing documents &ndash; branch (and merge) projects\n",
    "\n",
    "* back up your project (but git is not a backup software - see [sections on binary and large files](#Dealing-with-binary-files) below). \n",
    "\n",
    "---\n",
    ":::{figure-md} mess-happens-without-vc\n",
    "\n",
    "<img src=\"./graphics/cvs.png\" alt=\"Mess without Version Control\" width=\"350px\">\n",
    "\n",
    "**This will very likely happen if you don't use Version Control.** <br> (Source: [maktoons.blogspot.com](http://maktoons.blogspot.com/2009/06/if-dont-use-version-control-system.html)).\n",
    ":::\n",
    "\n",
    "---\n",
    "\n",
    "\n",
    "## git\n",
    "\n",
    "We will use git, developed by Linus Torvalds, the \"Linu\" in Linux. This is currently the most popular tool for version control. \n",
    "\n",
    "In git, each user stores a complete local copy of the project, including the history and all versions. So you do not rely as much on a centralized (remote) server. First, install and configure `git`:"
   ]
  },
  {
   "cell_type": "markdown",
   "metadata": {},
   "source": [
    "```bash \n",
    "sudo apt-get install git\n",
    "git config --global user.name \"Your Name\"\n",
    "git config --global user.email \"your.login@imperial.ac.uk\"\n",
    "git config --list\n",
    "```"
   ]
  },
  {
   "cell_type": "markdown",
   "metadata": {},
   "source": [
    "### `git` workflow\n",
    "\n",
    "Here is a graphical outline of the git workflow and command structure: \n",
    "\n",
    "---\n",
    ":::{figure-md} git-workflow\n",
    "<img src=\"./graphics/git.png\" alt=\"Git Workflow\" width=\"400px\">\n",
    "\n",
    "**The git workflow and command structure.**.\n",
    ":::\n",
    "\n",
    "---\n",
    "\n",
    "Note that only when you `push` or `fetch` do you need an internet connection, because before that you are only archiving in a local (hidden) repository (that sits in a hidden `.git` directory within your project).\n",
    "\n",
    "### Basic git commands\n",
    "\n",
    "Here are some fundamentally important git commands (please make sure you read more about them):\n",
    "\n",
    "|     Command    |   What it does     |\n",
    "| :------------- |:-------------| \n",
    "|`git init`|           Initialize a new repository|\n",
    "|`git clone`|          Download a repository from a remote server|\n",
    "|`git status`|         Show the current status|\n",
    "|`git diff`|           Show differences between commits|\n",
    "|`git blame`|          Blame somebody for the changes!|\n",
    "|`git log`|            Show commit history|\n",
    "|`git commit`|         Commit changes to current branch|\n",
    "|`git branch`|         Show branches |\n",
    "|`git branch name`|    Create new branch |\n",
    "|`git checkout name`|  Switch to a different commit/branch called `name`|\n",
    "|`git fetch`|          Gather commits info from a remote branch to your current local branch without merging them|\n",
    "|`git merge`|          Merge two or more versions of one or more files|\n",
    "|`git pull`|           Upload from remote repository (this is effectively the same as `fetch` followed by `merge`)|\n",
    "|`git push`|           Send changes to remote repository|\n",
    "\n",
    "There are more git commands which you will also learn, but it is important that you familiarize yourself with these ones in particular first.  "
   ]
  },
  {
   "cell_type": "markdown",
   "metadata": {},
   "source": [
    "## Your first repository\n",
    "\n",
    "Time to bring your computing coursework directory under version control. For example on Linux, \n",
    "\n",
    "```bash\n",
    "cd ~/Documents/CMEECourseWork\n",
    "```"
   ]
  },
  {
   "cell_type": "code",
   "execution_count": 1,
   "metadata": {
    "tags": [
     "remove-cell"
    ]
   },
   "outputs": [],
   "source": [
    "cd ~/Documents/CMEECourseWork"
   ]
  },
  {
   "cell_type": "markdown",
   "metadata": {},
   "source": [
    "Then initialize your local git repository:"
   ]
  },
  {
   "cell_type": "code",
   "execution_count": 2,
   "metadata": {},
   "outputs": [
    {
     "name": "stdout",
     "output_type": "stream",
     "text": [
      "Initialised empty Git repository in /home/mhasoba/Documents/CMEECourseWork/.git/\n"
     ]
    }
   ],
   "source": [
    "git init"
   ]
  },
  {
   "cell_type": "markdown",
   "metadata": {},
   "source": [
    "Create your README file (as a [markdown](https://en.wikipedia.org/wiki/Markdown) document, so with the `.md` extension):"
   ]
  },
  {
   "cell_type": "code",
   "execution_count": 3,
   "metadata": {},
   "outputs": [],
   "source": [
    "echo \"My CMEE Coursework Repository\" > README.md"
   ]
  },
  {
   "cell_type": "markdown",
   "metadata": {},
   "source": [
    "Check your git configuration:"
   ]
  },
  {
   "cell_type": "code",
   "execution_count": 4,
   "metadata": {
    "scrolled": true
   },
   "outputs": [
    {
     "name": "stdout",
     "output_type": "stream",
     "text": [
      "user.email=mhasoba@gmail.com\n",
      "user.name=Samraat Pawar\n",
      "push.default=simple\n",
      "core.repositoryformatversion=0\n",
      "core.filemode=true\n",
      "core.bare=false\n",
      "core.logallrefupdates=true\n"
     ]
    }
   ],
   "source": [
    "git config --list"
   ]
  },
  {
   "cell_type": "markdown",
   "metadata": {},
   "source": [
    "Check the files and directories that have been created; note the hidden `.git` directory:"
   ]
  },
  {
   "cell_type": "code",
   "execution_count": 5,
   "metadata": {
    "scrolled": true
   },
   "outputs": [
    {
     "name": "stdout",
     "output_type": "stream",
     "text": [
      "total 20\n",
      "drwxrwxr-x  4 mhasoba mhasoba 4096 Oct 13 14:38 \u001b[0m\u001b[01;34m.\u001b[0m\n",
      "drwxr-xr-x 34 mhasoba mhasoba 4096 Oct 13 14:37 \u001b[01;34m..\u001b[0m\n",
      "drwxrwxr-x  7 mhasoba mhasoba 4096 Oct 13 14:38 \u001b[01;34m.git\u001b[0m\n",
      "-rw-rw-r--  1 mhasoba mhasoba   30 Oct 13 14:38 README.md\n",
      "drwxrwxr-x  6 mhasoba mhasoba 4096 Oct 13 14:37 \u001b[01;34mweek1\u001b[0m\n"
     ]
    }
   ],
   "source": [
    "ls -al"
   ]
  },
  {
   "cell_type": "markdown",
   "metadata": {},
   "source": [
    "Add the README (AKA \"stage\" it for for a git commit):"
   ]
  },
  {
   "cell_type": "code",
   "execution_count": 6,
   "metadata": {},
   "outputs": [],
   "source": [
    "git add README.md"
   ]
  },
  {
   "cell_type": "markdown",
   "metadata": {},
   "source": [
    "Check the current status of your repository: "
   ]
  },
  {
   "cell_type": "code",
   "execution_count": 7,
   "metadata": {
    "scrolled": true
   },
   "outputs": [
    {
     "name": "stdout",
     "output_type": "stream",
     "text": [
      "On branch master\n",
      "\n",
      "No commits yet\n",
      "\n",
      "Changes to be committed:\n",
      "  (use \"git rm --cached <file>...\" to unstage)\n",
      "\t\u001b[32mnew file:   README.md\u001b[m\n",
      "\n",
      "Untracked files:\n",
      "  (use \"git add <file>...\" to include in what will be committed)\n",
      "\t\u001b[31mweek1/\u001b[m\n",
      "\n"
     ]
    }
   ],
   "source": [
    "git status"
   ]
  },
  {
   "cell_type": "markdown",
   "metadata": {},
   "source": [
    "This tells you that there are local changes that need to be committed. "
   ]
  },
  {
   "cell_type": "code",
   "execution_count": 8,
   "metadata": {
    "scrolled": true
   },
   "outputs": [
    {
     "name": "stdout",
     "output_type": "stream",
     "text": [
      "[master (root-commit) c04bc3a] Added README file.\n",
      " 1 file changed, 1 insertion(+)\n",
      " create mode 100644 README.md\n"
     ]
    }
   ],
   "source": [
    "git commit -m \"Added README file.\""
   ]
  },
  {
   "cell_type": "markdown",
   "metadata": {},
   "source": [
    "You can also combine flags like in other UNIX comamnds; so you can both, add (`-a` flag) and commit (`-m` flag) at one go, with `-am`.\n",
    "\n",
    "Check status again:"
   ]
  },
  {
   "cell_type": "code",
   "execution_count": 9,
   "metadata": {
    "scrolled": true
   },
   "outputs": [
    {
     "name": "stdout",
     "output_type": "stream",
     "text": [
      "On branch master\n",
      "Untracked files:\n",
      "  (use \"git add <file>...\" to include in what will be committed)\n",
      "\t\u001b[31mweek1/\u001b[m\n",
      "\n",
      "nothing added to commit but untracked files present (use \"git add\" to track)\n"
     ]
    }
   ],
   "source": [
    "git status"
   ]
  },
  {
   "cell_type": "markdown",
   "metadata": {},
   "source": [
    "*What does it say now?*"
   ]
  },
  {
   "cell_type": "markdown",
   "metadata": {},
   "source": [
    "You can also add changes matching a particular pattern: for example"
   ]
  },
  {
   "cell_type": "code",
   "execution_count": 10,
   "metadata": {},
   "outputs": [],
   "source": [
    "git add *.txt"
   ]
  },
  {
   "cell_type": "code",
   "execution_count": 11,
   "metadata": {},
   "outputs": [
    {
     "name": "stdout",
     "output_type": "stream",
     "text": [
      "On branch master\n",
      "Changes to be committed:\n",
      "  (use \"git restore --staged <file>...\" to unstage)\n",
      "\t\u001b[32mnew file:   week1/data/spawannxs.txt\u001b[m\n",
      "\t\u001b[32mnew file:   week1/sandbox/TestFind/Dir1/Dir11/Dir111/File111.txt\u001b[m\n",
      "\t\u001b[32mnew file:   week1/sandbox/TestFind/Dir1/File1.txt\u001b[m\n",
      "\t\u001b[32mnew file:   week1/sandbox/TestFind/Dir2/File2.txt\u001b[m\n",
      "\t\u001b[32mnew file:   week1/sandbox/TestFind/Dir3/File3.txt\u001b[m\n",
      "\t\u001b[32mnew file:   week1/sandbox/TestWild/Anotherfile.txt\u001b[m\n",
      "\t\u001b[32mnew file:   week1/sandbox/TestWild/File1.txt\u001b[m\n",
      "\t\u001b[32mnew file:   week1/sandbox/TestWild/File2.txt\u001b[m\n",
      "\t\u001b[32mnew file:   week1/sandbox/TestWild/File3.txt\u001b[m\n",
      "\t\u001b[32mnew file:   week1/sandbox/TestWild/File4.txt\u001b[m\n",
      "\t\u001b[32mnew file:   week1/sandbox/test.txt\u001b[m\n",
      "\n"
     ]
    }
   ],
   "source": [
    "git status"
   ]
  },
  {
   "cell_type": "markdown",
   "metadata": {},
   "source": [
    "Note that this adds ALL changes that match the pattern, recursively (through all sub-directories)."
   ]
  },
  {
   "cell_type": "markdown",
   "metadata": {},
   "source": [
    "Next you can commit the rest of these files inside `week 1` with another message, just like you did for `readme` above:"
   ]
  },
  {
   "cell_type": "markdown",
   "metadata": {},
   "source": [
    "```{warning}\n",
    "Before making your first commit, please read the section about \"**Ignoring files**\" below.\n",
    "```"
   ]
  },
  {
   "cell_type": "code",
   "execution_count": 12,
   "metadata": {},
   "outputs": [
    {
     "name": "stdout",
     "output_type": "stream",
     "text": [
      "[master 2e5ab91] Full first commit of new project\n",
      " 20 files changed, 599 insertions(+)\n",
      " create mode 100644 week1/data/spawannxs.txt\n",
      " create mode 100644 week1/sandbox/TestFind/Dir1/Dir11/Dir111/File111.txt\n",
      " create mode 100644 week1/sandbox/TestFind/Dir1/File1.csv\n",
      " create mode 100644 week1/sandbox/TestFind/Dir1/File1.tex\n",
      " create mode 100644 week1/sandbox/TestFind/Dir1/File1.txt\n",
      " create mode 100644 week1/sandbox/TestFind/Dir2/File2.tex\n",
      " create mode 100644 week1/sandbox/TestFind/Dir2/File2.txt\n",
      " create mode 100644 week1/sandbox/TestFind/Dir2/file2.csv\n",
      " create mode 100644 week1/sandbox/TestFind/Dir3/File3.txt\n",
      " create mode 100644 week1/sandbox/TestWild/Anotherfile.csv\n",
      " create mode 100644 week1/sandbox/TestWild/Anotherfile.txt\n",
      " create mode 100644 week1/sandbox/TestWild/File1.csv\n",
      " create mode 100644 week1/sandbox/TestWild/File1.txt\n",
      " create mode 100644 week1/sandbox/TestWild/File2.csv\n",
      " create mode 100644 week1/sandbox/TestWild/File2.txt\n",
      " create mode 100644 week1/sandbox/TestWild/File3.csv\n",
      " create mode 100644 week1/sandbox/TestWild/File3.txt\n",
      " create mode 100644 week1/sandbox/TestWild/File4.csv\n",
      " create mode 100644 week1/sandbox/TestWild/File4.txt\n",
      " create mode 100644 week1/sandbox/test.txt\n"
     ]
    }
   ],
   "source": [
    "git commit -m \"Full first commit of new project\""
   ]
  },
  {
   "cell_type": "code",
   "execution_count": 13,
   "metadata": {},
   "outputs": [
    {
     "name": "stdout",
     "output_type": "stream",
     "text": [
      "On branch master\n",
      "nothing to commit, working tree clean\n"
     ]
    }
   ],
   "source": [
    "git status"
   ]
  },
  {
   "cell_type": "markdown",
   "metadata": {},
   "source": [
    "---\n",
    ":::{figure-md} git-commit\n",
    "<img src=\"./graphics/git_xkcd.png\" alt=\"XKCD committing\" width=\"400px\">\n",
    "\n",
    "**Make meaningful comments in your git commit.** Please don't neglect to make each commit message meaningful. And use this mantra: \"commit often, comment always\". The correct meaning of \"often\" in this context comes with experience.<br> (Source: [XKCD](https://m.xkcd.com/1296/))\n",
    ":::\n",
    "\n",
    "---"
   ]
  },
  {
   "cell_type": "markdown",
   "metadata": {},
   "source": [
    "Nothing has been sent to the remote server yet (see below for more on the remote server). \n",
    "\n",
    "So let's go to your online git service (e.g., github or  bitbucket) and set up. Note that github and bitbucket both give you unlimited free private repositories if you register with an academic email. Not a big deal if you will not be writing private code, handy if you are (*can you think of examples when you would need to write private code?*).\n",
    "\n",
    "So let's proceed with connecting your local git repository to your remote server:  \n",
    "\n",
    "* Login to your github or bitbucket account\n",
    "\n",
    "* Set up your `ssh`-based access. SSH (`S`ecure `S`ocket S`h`ell) is a protocol that allows you to connect to and interact with remote servers. Here are two sets of guidelines (you can use whichever seems easier to you, irrespective of whether you are using githib or bitbucket):\n",
    "\n",
    "    * [github](https://help.github.com/articles/connecting-to-github-with-ssh)\n",
    "\n",
    "    * [bitbucket](https://confluence.atlassian.com/bitbucket/set-up-ssh-for-git-728138079.html) (most of you will want the \"Set up SSH on macOS/Linux\" option)\n",
    "\n",
    "* Next, create a new repository on your remote service with the same name as your local project (e.g., `CMEECourseWork`), and push your new project to this newly created remote git repository. Instructions for this step are here:\n",
    "\n",
    "    * [github](https://help.github.com/articles/adding-an-existing-project-to-github-using-the-command-line)\n",
    "\n",
    "    * [bitbucket](https://confluence.atlassian.com/bitbucket/set-up-a-repository-877174034.html) (choose the \"I have existing files on my local system.\" option)\n",
    "\n",
    "*Note that you have already done the `git init` step, so no need to repeat those bits.*  \n",
    "\n",
    "You are done. Now you can really start to use git!\n",
    "\n",
    "The first step after having created your remote repository and added your ssh key to it, is to link the remote to your local repo (as the instructions in web pages linked above will already have told you): "
   ]
  },
  {
   "cell_type": "markdown",
   "metadata": {},
   "source": [
    "```bash\n",
    "git remote add origin git@github.com:mhasoba/CMEECourseWork.git\n",
    "```"
   ]
  },
  {
   "cell_type": "markdown",
   "metadata": {},
   "source": [
    "And then, \n",
    "\n",
    "```bash \n",
    "git remote -v\n",
    "```"
   ]
  },
  {
   "cell_type": "markdown",
   "metadata": {},
   "source": [
    "No you can `git push` all your local commits: "
   ]
  },
  {
   "cell_type": "markdown",
   "metadata": {},
   "source": [
    "```bash\n",
    "git push origin master\n",
    "```"
   ]
  },
  {
   "cell_type": "markdown",
   "metadata": {},
   "source": [
    "This pushes the (committed) changes in your local repository up to the remote repository you specified as the `origin`. Note that `master` refers to the branch (you currently only have one). More on branching below.\n",
    "\n",
    "You can rename your remote `origin` to a more meaningful name, (e.g., `github_CMEECourseWork`) using the `git remote rename` command. [See this](https://help.github.com/articles/renaming-a-remote)."
   ]
  },
  {
   "cell_type": "markdown",
   "metadata": {},
   "source": [
    "## The README file\n",
    "\n",
    "A README (like the `README.md` that you created in your git repo above) is a text file that introduces and explains a project. It contains information that is required to understand what the project is about and how to use or run it. \n",
    "\n",
    "While READMEs can be written in any text file format, Markdown (saved as an `.md` file) is most commonly used, as it allows you to add simple text formatting easily. Two other formats that you might most often see are plain text and [reStructuredText](https://en.wikipedia.org/wiki/ReStructuredText) (saved as an `.rst` file, common in Python projects).\n",
    "\n",
    "You can find many README file suggestions (and templates) online. Essentially, it should ideally have the following features/content:  \n",
    "\n",
    "* **Project name / title**\n",
    "* **Brief description**: what your project does and/or is for. Provide context and add links to any references to help new visitors.\n",
    "* **Languages**: List language(s) and their versions used in the project\n",
    "* **Dependencies**: What special packages (which are not part of standard libraries of the language(s) used) might be needed for a new user to run your project\n",
    "* **Installation**: Guidelines for installing the project (if applicable), including dependencies.\n",
    "* **Project structure and Usage**: How the project is structured and how to run/use it. Explain, if relevant, what specific files do. No need to list every file, such as data or experimental ones (like the ones in `sandbox`). \n",
    "* **Author name and contact**\n",
    "\n",
    "In addition, you may want to include(but not necessary for your current coursework), [License](https://en.wikipedia.org/wiki/Software_license), Acknowledgments, and instructions for Contributing."
   ]
  },
  {
   "cell_type": "markdown",
   "metadata": {},
   "source": [
    "## Ignoring Files\n",
    "\n",
    "You will have some files you don't want to track (log files, temporary files, executables, etc). You can ignore entire classes of files with `.gitignore`. \n",
    "\n",
    "$\\star$ Let's try it (make sure you are in your coursework directory (e.g., `CMEECourseWork`)):"
   ]
  },
  {
   "cell_type": "code",
   "execution_count": 14,
   "metadata": {},
   "outputs": [],
   "source": [
    "echo -e \"*~ \\n*.tmp\" > .gitignore"
   ]
  },
  {
   "cell_type": "code",
   "execution_count": 15,
   "metadata": {},
   "outputs": [
    {
     "name": "stdout",
     "output_type": "stream",
     "text": [
      "*~ \n",
      "*.tmp\n"
     ]
    }
   ],
   "source": [
    "cat .gitignore"
   ]
  },
  {
   "cell_type": "code",
   "execution_count": 16,
   "metadata": {},
   "outputs": [],
   "source": [
    "git add .gitignore"
   ]
  },
  {
   "cell_type": "code",
   "execution_count": 17,
   "metadata": {},
   "outputs": [],
   "source": [
    "touch temporary.tmp"
   ]
  },
  {
   "cell_type": "markdown",
   "metadata": {},
   "source": [
    "Then, \n",
    "\n",
    "`git add *`"
   ]
  },
  {
   "cell_type": "markdown",
   "metadata": {},
   "source": [
    "You can also create a global gitignore file that lists rules for files to be ignored [in every Git repository on your computer](https://help.github.com/articles/ignoring-files). \n",
    "\n",
    "```{tip} \n",
    "**Templates for .gitignore**: You can find standard `.gitignore` templates online. For example, search for \".gitignore templates\".\n",
    "```"
   ]
  },
  {
   "cell_type": "markdown",
   "metadata": {},
   "source": [
    "### Directory and file patterns for gitignoring\n",
    "\n",
    "It's important that you use the correct *patterns* for what to ignore in your `.gitignore`, to make sure that all the correct directories and files are being excluded. Note that you can put additonal `.gitignore` files in sub-directories if you need more fine-grained control over what is to be ignored, bt it is not necessary, because git-ignoring works recursively (including thorugh sub-directories) as long as you include the correct pattern.\n",
    "\n",
    "Here are the basic patterns (rules) :\n",
    "\n",
    "|     Pattern    |   gitignore result     |\n",
    "| :------------- |:-------------| \n",
    "| `#comment` | This is a comment - this gitignore entry will be ignored (avoid having any file or directory with `#` in its name!) |\n",
    "|`target`|     Every file OR directory (because lack of trailing `/`) named `target` is ignored, recursively|\n",
    "|`target/`|   Every directory (due to the trailing `/`) named `target` is ignored, recursively |\n",
    "|`/target`|   Every file OR directory named `target` in the top-most directory (due to the leading `/`) is ignored only there (not recursively)|\n",
    "|`/target/`|  Every directory named target in the top-most directory (because of the leading and trailing `/`) is ignored only there (not recursively)|\n",
    "| `*.extension`\t |   Every file or directory ending with the extension `.extension` is ignored, recursively|\n",
    "| `*.py[co]`|  Every file or directory ending in `.pyc` or `.pyo` is ignored (but not `.py`)|\n",
    "\n",
    "There are additonal patterns - please see the Readings and Resources section.  \n",
    "\n",
    "### `.gitignore`-ng after `commit`-ing\n",
    "\n",
    "If you find that a file or directory belonging to a pattern that you incuded in your `.gitignore` fails to be ignored (still comes under version control), it most likely means that you gitignored it AFTER committing and pushing it. In this scenario, you need to use \n",
    "\n",
    "```bash\n",
    "git rm --cached <file>\n",
    "```\n",
    "for a file, and \n",
    "\n",
    "```bash \n",
    "git rm -r --cached <folder>\n",
    "```\n",
    "for a directory. \n",
    "\n",
    "While these commands will not remove the physical file from your local repository, it will remove the files from other locals on their next `git pull`.\n"
   ]
  },
  {
   "cell_type": "markdown",
   "metadata": {},
   "source": [
    "## General good practice for gitignoring\n",
    "When writing a gitignore it is best to ignore any file that does not contain plaintext code. This type of file is what git was designed for!\n",
    "\n",
    "If you do need to include a **small** csv file, image, or output (such as when creating reports or including test data) it is a good idea to do this using exceptions (aka the ! symbol)\n",
    "\n",
    "For example the following gitignore file would ignore ALL csv files except for pushabledata.csv\n",
    "\n",
    "```\n",
    "*.csv\n",
    "!pushabledata.csv\n",
    "```\n",
    "\n",
    "As git reads gitignore files top-to-bottom and can overwrite contradicticting rules with others, it is important to make sure that these are in the correct order.\n",
    "\n",
    "### Whitelist principle\n",
    "Gitignore files are usually used as a blacklist: where anything you add to your git repository is allowed unless you specifically outlaw it in the gitignore.\n",
    "\n",
    "An alternative, safer technique (though one which is definitely more work to maintain) is a whitelist-based approach.\n",
    "\n",
    "To do this, you firstly ignore every file with the pattern `*.*` and then explicitly allow files and file types that you _know_ you want. For example:\n",
    "\n",
    "```\n",
    "*.*\n",
    "!.gitignore\n",
    "!*.R\n",
    "!*.py\n",
    "!*.sh\n",
    "!*.tex\n",
    "!*.bib\n",
    "!Week1/results/myfirstlatexdoc.tex\n",
    "```\n",
    "\n",
    "This is not necessarily a better or worse way to do things, you are in the end trading your time and effort for increased safety and cleanliness of your repository."
   ]
  },
  {
   "cell_type": "markdown",
   "metadata": {},
   "source": [
    "## Dealing with binary files\n",
    "\n",
    "A binary file is computer-readable but not human-readable, that is, it cannot be read by opening them in a text viewer. Examples of binary files include compiled executables, zip files, images, word documents and videos. In contrast, text files are stored in a form (usually ASCII) that is human-readable by opening in a text reader (e.g., gedit). Without some git extensions and configurations (coming up next), binary files cannot be properly version-controlled because each version of the entire file is saved *as is* in a hidden directory in the repository (`.git`).\n",
    "\n",
    "However, with some more effort, git can be made to work for binary formats like `*.docx` or image formats such as `*.jpeg`, but it is harder to compare versions; have a look at [this](https://git-scm.com/docs/gitattributes) and [this](https://git-scm.com/book/en/v2/Customizing-Git-Git-Attributes)<sup>[1](#git:word)</sup>, and also, [this](https://opensource.com/life/16/8/how-manage-binary-blobs-git-part-7)\n",
    "\n",
    "## Dealing with large files\n",
    "\n",
    "As such, git was designed for version control of workflows and software projects, *not* large files (say, &gt;100mb) (which may be plain-text or binary). Binary files are particularly problematic because each version of the file is saved *as is* in `.git`, when you have a large number of versions it means that there are the same number of binary files in the hidden directory (for example 100 $\\times$ &gt;100mb files!).\n",
    "\n",
    "*So please do not keep large files (especially binary files) under version control*<sup>[2](#git:largefiles)</sup>. For example, if you are doing GIS work, you may have to handle large raster image files.  Do not bring such files under version control. We suggest that you include files larger than some size in your `.gitignore`. For example, you can use the following bash command:"
   ]
  },
  {
   "cell_type": "markdown",
   "metadata": {},
   "source": [
    "`find . -size +100M | cat >> .gitignore`"
   ]
  },
  {
   "cell_type": "markdown",
   "metadata": {},
   "source": [
    "The 100M means 100 mb – you can reset it to whatever you want.\n",
    "\n",
    "*Then what about code that needs large files?* For this, the best approach is write code that scales up with data size. If it works on a 1 mb file, it should also work on a 1000 mb file! If you have written such code, then you can include a smaller file as a MWE (minimum working example).   \n",
    "\n",
    "*And how do you back up your large data files?* Remember, version control software like git are not meant for backing up data. The solution is to back up separately, either to an external hard drive or a cloud service. `rsync` is a great Linux utility for making such backups. Google it! \n",
    "\n",
    "You may also explore alternatives such as `git-annex` (e.g., [see this](https://git-annex.branchable.com)), and `git-lfs` (e.g., [see this](https://www.atlassian.com/git/tutorials/git-lfs)).\n",
    "\n",
    "```{tip}\n",
    "**Checking size of your git repo**: You have two options in Linux/UNIX to check the size of your git repo. You can use (`cd` to your repo first) `du -sh .git`, or for more detailed information about what's using the space, use `git count-objects -vH` (this will work across platforms as this is a git command).\n",
    "\n",
    "```\n",
    "\n",
    "\n",
    "## Removing files\n",
    "\n",
    "To remove a file (i.e. stop version controlling it) use `git rm`:"
   ]
  },
  {
   "cell_type": "code",
   "execution_count": 18,
   "metadata": {},
   "outputs": [],
   "source": [
    "echo \"Text in a file to remove\" > FileToRem.txt"
   ]
  },
  {
   "cell_type": "code",
   "execution_count": 19,
   "metadata": {},
   "outputs": [],
   "source": [
    "git add FileToRem.txt"
   ]
  },
  {
   "cell_type": "code",
   "execution_count": 20,
   "metadata": {
    "scrolled": true
   },
   "outputs": [
    {
     "name": "stdout",
     "output_type": "stream",
     "text": [
      "[master 706f40d] added a new file that we'll remove later\n",
      " 2 files changed, 3 insertions(+)\n",
      " create mode 100644 .gitignore\n",
      " create mode 100644 FileToRem.txt\n"
     ]
    }
   ],
   "source": [
    "git commit -am \"added a new file that we'll remove later\""
   ]
  },
  {
   "cell_type": "code",
   "execution_count": 21,
   "metadata": {},
   "outputs": [
    {
     "name": "stdout",
     "output_type": "stream",
     "text": [
      "rm 'FileToRem.txt'\n"
     ]
    }
   ],
   "source": [
    "git rm FileToRem.txt"
   ]
  },
  {
   "cell_type": "code",
   "execution_count": 22,
   "metadata": {},
   "outputs": [
    {
     "name": "stdout",
     "output_type": "stream",
     "text": [
      "[master 284c62e] removed the file\n",
      " 1 file changed, 1 deletion(-)\n",
      " delete mode 100644 FileToRem.txt\n"
     ]
    }
   ],
   "source": [
    "git commit -am \"removed the file\""
   ]
  },
  {
   "cell_type": "markdown",
   "metadata": {},
   "source": [
    "I typically just make all my changes and then just use `git add -A` for the whole directory (and it's subdirectories; `-A` is recursive).   \n",
    "\n",
    "### Un-tracking files\n",
    "\n",
    "`.gitignore` will prevent untracked files from being added to the set of files tracked by git. However, git will continue to track any files that are already being tracked. To stop tracking a file you need to remove it from the index. This can be achieved with this command.\n",
    "\n",
    "```bash\n",
    "git rm --cached <file>\n",
    "```\n",
    "The removal of the file from the head revision will happen on the next commit."
   ]
  },
  {
   "cell_type": "markdown",
   "metadata": {},
   "source": [
    "Accessing history of the repository\n",
    "-----------------------------------\n",
    "\n",
    "To see particular changes introduced, read the repo’s log :"
   ]
  },
  {
   "cell_type": "markdown",
   "metadata": {},
   "source": [
    "```bash\n",
    "git log\n",
    "```"
   ]
  },
  {
   "cell_type": "markdown",
   "metadata": {},
   "source": [
    "For a more detailed version, add `-p` at the end.\n",
    "\n",
    "### Reverting to a previous version\n",
    "\n",
    "If things go horribly wrong with new changes, you can revert to the previous, \"pristine\" state:"
   ]
  },
  {
   "cell_type": "markdown",
   "metadata": {},
   "source": [
    "```bash \n",
    "git reset --hard\n",
    "git commit -am \"returned to previous state\" #Note I used -am here\n",
    "```"
   ]
  },
  {
   "cell_type": "markdown",
   "metadata": {},
   "source": [
    "If instead you want to move back in time (temporarily), first find the\n",
    "“hash” for the commit you want to revert to, and then check-out:"
   ]
  },
  {
   "cell_type": "markdown",
   "metadata": {},
   "source": [
    "```bash\n",
    "git status\n",
    "```\n",
    "And then, "
   ]
  },
  {
   "cell_type": "markdown",
   "metadata": {},
   "source": [
    "```bash \n",
    "git log\n",
    "```"
   ]
  },
  {
   "cell_type": "markdown",
   "metadata": {},
   "source": [
    "Then, you can \n",
    "\n",
    "```bash\n",
    "git checkout *version number*\n",
    "```"
   ]
  },
  {
   "cell_type": "markdown",
   "metadata": {},
   "source": [
    "e.g, `git checkout 95f7d0`"
   ]
  },
  {
   "cell_type": "markdown",
   "metadata": {},
   "source": [
    "Now you can play around. However, if you do want to commit changes, you create a \"branch\" (see below). To go back to the future, type "
   ]
  },
  {
   "cell_type": "markdown",
   "metadata": {},
   "source": [
    "```bash \n",
    "git checkout master\n",
    "```"
   ]
  },
  {
   "cell_type": "markdown",
   "metadata": {},
   "source": [
    "## Branching\n",
    "\n",
    "Imagine you want to try something out, but you are not sure it will work well. For example, say you want to rewrite the Introduction of your paper, using a different angle, or you want to see whether switching to a library for a piece of code improves speed. What you then need is branching, which creates a project copy in which you can experiment:"
   ]
  },
  {
   "cell_type": "markdown",
   "metadata": {},
   "source": [
    "`git branch anexperiment`"
   ]
  },
  {
   "cell_type": "markdown",
   "metadata": {},
   "source": [
    "`git branch`"
   ]
  },
  {
   "cell_type": "markdown",
   "metadata": {},
   "source": [
    "`git checkout anexperiment`"
   ]
  },
  {
   "cell_type": "markdown",
   "metadata": {},
   "source": [
    "`git branch`"
   ]
  },
  {
   "cell_type": "markdown",
   "metadata": {},
   "source": [
    "`echo \"Do I like this better?\" >> README.txt`"
   ]
  },
  {
   "cell_type": "markdown",
   "metadata": {},
   "source": [
    "`git commit -am \"Testing experimental branch\"`"
   ]
  },
  {
   "cell_type": "markdown",
   "metadata": {},
   "source": [
    "If you decide to merge the new branch after modifying it:"
   ]
  },
  {
   "cell_type": "markdown",
   "metadata": {},
   "source": [
    "`git checkout master`"
   ]
  },
  {
   "cell_type": "markdown",
   "metadata": {},
   "source": [
    "`git merge anexperiment`"
   ]
  },
  {
   "cell_type": "markdown",
   "metadata": {},
   "source": [
    "`cat README.txt`"
   ]
  },
  {
   "cell_type": "markdown",
   "metadata": {},
   "source": [
    "Unless there are conflicts, i.e., some other files that you changed locally had diverged from those files in the Master  in the meantime (due to new changes pushed by another collaborator), you are done, and you can delete the branch:"
   ]
  },
  {
   "cell_type": "markdown",
   "metadata": {},
   "source": [
    "`git branch -d anexperiment`"
   ]
  },
  {
   "cell_type": "markdown",
   "metadata": {},
   "source": [
    "If instead you are not satisfied with the result, and you want to\n",
    "abandon the branch:"
   ]
  },
  {
   "cell_type": "markdown",
   "metadata": {},
   "source": [
    "`git branch -D anexperiment`"
   ]
  },
  {
   "cell_type": "markdown",
   "metadata": {},
   "source": [
    "When you want to test something out, always branch! Reverting changes, especially in code, is typically painful. Merging can be tricky, especially if multiple people have simultaneously worked on a particular document. In the worst-case scenario, you may want to delete the local copy and re-clone the remote repository.\n",
    "\n",
    "---\n",
    ":::{figure-md} git-XKCD-2\n",
    "<img src=\"./graphics/git_xkcd_1.png\" alt=\"git desperation\" width=\"250px\">\n",
    "\n",
    "**Try not to do this.** But most of us mortals will have, at some point! <br> (Source: [XKCD](https://xkcd.com/1597/))\n",
    ":::\n",
    "\n",
    "---\n",
    "\n",
    "## Running git commands on a different directory\n",
    "\n",
    "Since `git` version 1.8.5, you can run git directly on a different directory than the current one using absolute or relative paths. For example, using a relative path, you can do:\n",
    "\n",
    "```bash \n",
    "git -C ../SomeDir/ status\n",
    "```\n",
    "```{tip}\n",
    "**Cloning the MulQuaBio repository**: You can clone the master repository of this book on your computer and regularly git pull it to keep it updated. That way the these notes and the associated code and data files are easily and locally available on your computer. **DO NOT** clone the repository into your own coursework repository though!\n",
    "```"
   ]
  },
  {
   "cell_type": "markdown",
   "metadata": {},
   "source": [
    "### Running git commands on multiple repositories at once\n",
    "\n",
    "For git pulling in multiple subdirectories (each a separate repository), here is an example:"
   ]
  },
  {
   "cell_type": "markdown",
   "metadata": {},
   "source": [
    "`find . -mindepth 1 -maxdepth 1 -type d -print -exec git -C {} pull \\;`"
   ]
  },
  {
   "cell_type": "markdown",
   "metadata": {},
   "source": [
    "Breaking down these commands one by one,\n",
    "\n",
    "`find .` searches the current directory\n",
    "\n",
    "`-type d` finds directories, not files\n",
    "\n",
    "`-mindepth 1` sets min search depth to one sub-directory\n",
    "\n",
    "`-maxdepth 1` sets max search depth to one sub-directory\n",
    "\n",
    "`-exec git -C {} pull \\ ` runs a custom git command one on every git repo found"
   ]
  },
  {
   "cell_type": "markdown",
   "metadata": {},
   "source": [
    "## Using git through a GUI \n",
    "\n",
    "There are many nice git GUI's (Graphical User Interfaces) out there, such as [gitKraken](https://www.gitkraken.com/). Or if you are using a code editor like Visual Studio Code, there are nice extensions that will give you considerable GUI functionality."
   ]
  },
  {
   "cell_type": "markdown",
   "metadata": {},
   "source": [
    "```{tip}\n",
    "\n",
    "**Checking git status**: Always run the `git status`command on a repository before pulling/fetching from, or pushing to a remote repository!\n",
    "\n",
    "```"
   ]
  },
  {
   "cell_type": "markdown",
   "metadata": {},
   "source": [
    "## A friendly concluding note on git\n",
    "Git can feel hard and unintuitive. It is likely that at some point you will make a mistake and lose some work as a consequence.\n",
    "\n",
    "_THIS IS NORMAL_\n",
    "\n",
    "Don't worry about it, this has happened to pretty much everyone who has ever used git.\n",
    "\n",
    "When things like this do happen though, it is imperative that you work out _what_ went wrong so you can make sure it doesn't happen again.\n",
    "\n",
    "Questions to ask yourself include:\n",
    "- Did I use `git status` to check what I was adding?\n",
    "- Did I commit regularly enough, whenever I had completed a logical section of work?\n",
    "- Did I make sure to only commit code rather than committing data files and outputs too?\n",
    "- Did I make sure to gitignore the things I needed to?\n",
    "\n",
    "When you get used to working with git, it becomes as natural as juggling chainsaws: i.e. it will always feel a bit odd and strange but it won't be as scary as it once was."
   ]
  },
  {
   "cell_type": "markdown",
   "metadata": {},
   "source": [
    "## Practicals\n",
    "\n",
    "### Instructions\n",
    "\n",
    "*Don't modify anything (or refer to any files) in your local copy of the git repository of these notes (on Github). Copy whatever you need from the master repository to your own repository.*\n",
    "\n",
    "*Git commit and push every time you do some significant amount of coding work (after testing it), and then again before the given deadline (this will be announced in class).* This includes `UnixPrac1.txt` from the [Unix Chapter](01-Unix.ipynb).\n",
    "\n",
    "**Push your git repository** \n",
    "* The only practical submission for git is pushing your coursework git repository, `.gitignore` and `readme` files included. Make sure your `.gitignore` has meaningful exclusions, and your `readme` has useful information (as explained in the [section above](#The-README-file)). Also search online \"readme good practices\" or something like that to find additional tips/info. \n",
    " \n",
    "* Also, invite your assessor to your coursework repository (e.g, `CMEECourseWork`) repository with *write privileges* (AKA *push* privilege in GitHub). The current assessor is s.pawar@imperial.ac.uk (or \"mhasoba\" on both bitbucket and github). "
   ]
  },
  {
   "cell_type": "markdown",
   "metadata": {},
   "source": [
    "## Readings & Resources\n",
    "\n",
    "### General \n",
    "* Excellent book on Git: <http://git-scm.com/book>\n",
    "* Look up the [Bitbucket Git resources](https://www.atlassian.com/git)\n",
    "* Really great git tutorials: <https://try.github.io>\n",
    "\n",
    "### Markdown\n",
    "* A cheatsheet for github-flavored Markdown: https://github.com/adam-p/markdown-here/wiki/Markdown-Cheatsheet\n",
    "\n",
    "### Committing practices \n",
    "* Some tips for good commit practices: https://chris.beams.io/posts/git-commit/\n",
    "\n",
    "### .gitignore\n",
    "* Guidelines for the `.gitignore` file: https://labs.consol.de/development/git/2017/02/22/gitignore.html, https://docs.github.com/en/free-pro-team@latest/github/using-git/ignoring-files\n",
    "\n",
    "### Branching \n",
    "* Guidelines for brancing: https://gist.github.com/digitaljhelms/4287848\n",
    "\n"
   ]
  },
  {
   "cell_type": "markdown",
   "metadata": {},
   "source": [
    "---\n",
    "\n",
    "**Footnotes**\n",
    "\n",
    "<a name=\"git:word\">1</a>: There you will find the following phrase: \"...one of the most annoying problems known to humanity: version-controlling Microsoft Word documents.\". LOL!\n",
    "\n",
    "<a name=\"git:largefiles\">2</a>: None of the computing weeks assessments will require you to use such large files anyway"
   ]
  }
 ],
 "metadata": {
  "kernelspec": {
   "display_name": "Bash",
   "language": "bash",
   "name": "bash"
  },
  "language_info": {
   "codemirror_mode": "shell",
   "file_extension": ".sh",
   "mimetype": "text/x-sh",
   "name": "bash"
  },
  "latex_envs": {
   "LaTeX_envs_menu_present": true,
   "autoclose": false,
   "autocomplete": false,
   "bibliofile": "biblio.bib",
   "cite_by": "apalike",
   "current_citInitial": 1,
   "eqLabelWithNumbers": true,
   "eqNumInitial": 1,
   "hotkeys": {
    "equation": "Ctrl-E",
    "itemize": "Ctrl-I"
   },
   "labels_anchors": false,
   "latex_user_defs": false,
   "report_style_numbering": false,
   "user_envs_cfg": false
  },
  "toc": {
   "base_numbering": 1,
   "nav_menu": {},
   "number_sections": true,
   "sideBar": false,
   "skip_h1_title": false,
   "title_cell": "Contents",
   "title_sidebar": "Contents",
   "toc_cell": false,
   "toc_position": {},
   "toc_section_display": false,
   "toc_window_display": true
  }
 },
 "nbformat": 4,
 "nbformat_minor": 4
}