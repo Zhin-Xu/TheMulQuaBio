{
 "cells": [
  {
   "cell_type": "markdown",
   "metadata": {},
   "source": [
    "# Shell scripting"
   ]
  },
  {
   "cell_type": "markdown",
   "metadata": {},
   "source": [
    "\n",
    "## Introduction\n",
    "\n",
    "Instead of typing all the UNIX commands we need to perform one after the other, we can save them all in a file (a \"script\") and execute them all at once. Recall from the [UNIX and Linux Chapter](./01-Unix.ipynb) that the bash shell (or terminal) is a text command processor that interfaces with the Operating System. The bash shell provides a computer language that can be used to build scripts (AKA shell scripts) that can be run through the terminal."
   ]
  },
  {
   "cell_type": "markdown",
   "metadata": {},
   "source": [
    "### What shell scripts are good for\n",
    "\n",
    "It is possible to write reasonably sophisticated programs with shell scripting, but the bash language is not featured to the extent that it can replace a \"proper\" language like C, Python, or R. However, you will find that shell scripting is necessary. This is because as such, as you saw in the previous chapter, UNIX has an incredibly powerful set of tools that can be used through the bash terminal. Shell scripts can allow you to automate the usage of these commands and create your own, simple utility tools/scripts/programs for tasks such as backups, converting file formats, handling & manipulating files and directories). This enables you to perform many everyday tasks on your computer without having to invoke another language that might require installation or updating.\n",
    "\n",
    "  "
   ]
  },
  {
   "cell_type": "markdown",
   "metadata": {},
   "source": [
    "## Your first shell script\n",
    "\n",
    "Let's write our first shell script.\n",
    "\n",
    "### Some conventions and syntax rules\n",
    "\n",
    "* By convention, Unix shell variables should be named in UPPERCASE\n",
    "* Also, to create more complex variable names, use [snake case](https://en.wikipedia.org/wiki/Snake_case) (for example \"VAR_NAME\")\n",
    "* There should be no spaces around the `=` when assigning these variables; `MY_VAR=value` would work, but `MY_VAR = value`  wouldn't, because then the shell assumes that `MY_VAR` must be the name of a command and tries to execute it (with ` = value` as arguments).\n",
    "\n",
    "$\\star$ Write and save a file called `boilerplate.sh` in `CMEECourseWork/week1/code`, and add the following script to it\n",
    "(type it in your code editor):\n",
    "\n",
    "```bash\n",
    "#!/bin/sh\n",
    "# Author: Your Name your.login@imperial.ac.uk\n",
    "# Script: boilerplate.sh\n",
    "# Desc: simple boilerplate for shell scripts\n",
    "# Arguments: none\n",
    "# Date: Oct 2019\n",
    "\n",
    "echo -e \"\\nThis is a shell script! \\n\"\n",
    "\n",
    "#exit\n",
    "\n",
    "```\n",
    "\n",
    "The `.sh` extension is not necessary, but useful for you and your programming IDE (e.g., Visual Studio Code, Emacs, etc) to identifying the file type. \n",
    "* The first line is a \"shebang\" (or sha-bang or hashbang or pound-bang or hash-exclam or hash-pling! – Wikipedia). It can also can be written as `#!/bin/bash` (assuming you are using the bash shell). It tells the bash interpreter that this is a bash script and that it should be interpreted and run as such, and be executed by `/bin/sh`.\n",
    "* The hash marks in the following lines tell the interpreter that it should ignore the lines following them (that's how you put in script documentation (who wrote the script and when, what the script does, etc.) and comments on particular line of script.\n",
    "*  The `-e` flag to `echo`\n",
    "* Note that there is a commented out `exit` command at the end of the script. Uncommenting it will not change the behavior of the script, but will allow you to generate a error code, and if the command is inserted in the middle of the script, to stop the code at that point. To find out more, see [this](https://bash.cyberciti.biz/guide/The_exit_status_of_a_command) and [this](https://stackoverflow.com/questions/1378274/in-a-bash-script-how-can-i-exit-the-entire-script-if-a-certain-condition-occurs) in particular. \n",
    "\n",
    "```{tip}\n",
    "`#!/bin/sh` is the standard location of the Bourne shell (`sh`) on most Unix systems. If you're using GNU/Linux (e.g., Ubuntu), `/bin/sh` is normally a symbolic link to bash (or, sometimes, `[dash]`](https://blog.cloudware.bg/en/dash-vs-bash-shell/)).\n",
    "```"
   ]
  },
  {
   "cell_type": "markdown",
   "metadata": {},
   "source": [
    "## Special characters\n",
    "\n",
    "In shell scripts, there are certain, \"special\" characters that must be properly \"escaped\" to avoid interpretation by the shell. Some of these you already saw in the UNIX Chapter; for example, in the bash challenge command `find . -type f -exec ls -s {} \\; | sort -n | head -10`, the character `;` had to be escaped with a `\\` to avoid being interpreted as a special character. There is a list of these in the UNIX chapter, and additional ones will be introduced here."
   ]
  },
  {
   "cell_type": "markdown",
   "metadata": {},
   "source": [
    "Next, let's run your first shell script."
   ]
  },
  {
   "cell_type": "markdown",
   "metadata": {},
   "source": [
    "## Running shell scripts\n",
    "\n",
    "There are two ways to run a shell script:\n",
    "\n",
    "1. Call the bash interpreter to run the file:\n",
    "\n",
    "```bash\n",
    "bash myscript.sh\n",
    "```\n",
    "\n",
    "(You can also use ```sh myscript.sh```, but it may give a slightly different output.)\n",
    "\n",
    "This is the right way if the script is does something specific in a given project. "
   ]
  },
  {
   "cell_type": "markdown",
   "metadata": {},
   "source": [
    "```{note}\n",
    "Bash (bash) is one of many available (yet the most commonly used) Unix shells. Bash stands for \"`B`ourne `A`gain SHell\",and is an improvement of the original Bourne shell (`sh`). Basically `bash` is `sh`, with more features and nicer (more intuitive, compact) syntax. Most inbuilt UNIX commands or your own scripts will work the same, but at times with subtle differences in output.  \n",
    "\n",
    "```\n",
    "\n",
    "```{tip}\n",
    "**Mac Users**: your default shell might not be `bash`, `zsh`. Usually, running a shell script or command with `bash` and `zsh` will give you an identical processing and output. The commands you learned for `bash` will also work in `zsh` although they may give somewhat different output.\n",
    "```"
   ]
  },
  {
   "cell_type": "markdown",
   "metadata": {},
   "source": [
    "2.  Make the script executable and execute it:\n",
    "\n",
    "```bash \n",
    "chmod +x myscript.sh\n",
    "./myscript.sh # the ./ is needed\n",
    "```\n",
    "Use this second approach for a script that does something generic, and is likely to be reused again and again (*Can you think of examples?*)"
   ]
  },
  {
   "cell_type": "markdown",
   "metadata": {},
   "source": [
    "The generic scripts of type (2) can be saved in `username/bin/`, and made easily accessible by telling UNIX to look in `/home/bin` for specific scripts. To this end, you need to add `bin` to the directory paths that linux searches in for executables. For this you need to set the `$PATH` [environmental variable](https://linuxize.com/post/how-to-set-and-list-environment-variables-in-linux/): a list of directories (separated by colons) that tells the shell which ones to search for executable files (more on environmental variables below). \n",
    "\n",
    "First, check which directories are already in `$PATH`:\n",
    "\n",
    "```bash\n",
    "echo $PATH\n",
    "```\n",
    "\n",
    "Then check if you already have a `bin directory`:\n",
    "\n",
    "```bash\n",
    "find /home/ -maxdepth 3 -name 'bin' -type d\n",
    "```\n",
    "\n",
    "```{tip}\n",
    "**Mac Users**: on Macs you may not need to search `/home/`, but just `/`\n",
    "```\n",
    "\n",
    "Note the `maxdepth 3` directive. You don't want to search in every possible directory in your UNIX tree (under `home`)! If you see no `bin` directory (e.g., you might find `.local/bin`), then create one: \n",
    "\n",
    "```bash\n",
    "mkdir ~/.local/bin # in \".local\" to keep it to only current user\n",
    "```\n",
    "Then, add it to the `$PATH`:\n",
    "\n",
    "```bash\n",
    "export \"PATH=$PATH:$HOME/.local/bin\"\n",
    "```\n",
    "This change will not persist after you have rebooted your computer. To make it persistent,\n",
    "\n",
    "* For Bash, you need to add `export PATH=$PATH:$HOME/.local/bin`, to the appropriate file that will be read when *your shell launches*. There are a few different files where you can set the variable name: \n",
    "    * `~/.bashrc`\n",
    "    * `~/.profile` \n",
    "    * `~/.bash_profile`\n",
    "\n",
    "Check if these files exist, and then add the path specification command (`export PATH=$PATH:$HOME/.local/bin` in this case) to any of them, but usually `~/.bashrc` is a good choice. Then log out and in again, or run `source ~/.bashrc` (if it was indeed `.bashrc` that you edited). \n",
    "* For other shells, you need to find the appropriate file by reading that shell's documentation. In particular, on current Mac OS versions, which now use the `zsh` shell, it will be `~/.zshrc`.\n",
    "\n",
    "```{note}\n",
    "If you have two executable files sharing the same name located in two different directories, the shell will run the file that is in the directory that comes first in the paths listed in `$PATH`.\n",
    "```"
   ]
  },
  {
   "cell_type": "markdown",
   "metadata": {},
   "source": [
    "Now run your first shell script.\n",
    "\n",
    "&#9733; `cd` to your `code` directory, and run it :"
   ]
  },
  {
   "cell_type": "code",
   "execution_count": 1,
   "metadata": {
    "scrolled": true
   },
   "outputs": [
    {
     "name": "stdout",
     "output_type": "stream",
     "text": [
      "\n",
      "This is a shell script! \n",
      "\n"
     ]
    }
   ],
   "source": [
    "cd ../code\n",
    "bash boilerplate.sh"
   ]
  },
  {
   "cell_type": "markdown",
   "metadata": {},
   "source": [
    "I have specified the relative path `../code` assuming that you are in some other directory in your current week (`sandbox`, `results` or `data`)."
   ]
  },
  {
   "cell_type": "markdown",
   "metadata": {},
   "source": [
    "(02-ShellScripting-Variables)=\n",
    "## Variables in shell scripts\n",
    "\n",
    "You will need to handle and manipulate variables (AKA parameters) inside shell scripts to truly exploit the powerful features of the bash (shell) language. \n",
    "\n",
    "```{note}\n",
    "At the most fundamental level, a \"variable\" in any programming language or environment is a *named* section (portion, chunk) of the computer's memory which can be assigned values, read and manipulated.\n",
    "```\n",
    "\n",
    "Shell scripts have two types of variables.\n",
    "\n",
    "### Special Variables \n",
    "\n",
    "These are set by the shell, and typically cannot have values assigned to them (cannot be modified). They contain useful or necessary information needed for the script to run. These include:\n",
    "* **Environmental variables**: \n",
    "These contain information about the system (e.g., `$PATH`, which you saw above), are available system-wide (so you can invoke them directly in the commandline, outside a shell script), and are available to (or \"inherited by\") all new processes and shells generated (\"spawned\") by a bash script (AKA a \"child\" process or shell).\n",
    "* **Special internal variables**: \n",
    "These exist only in the environment of a particular execution of the shell script. These will not be available any more once the script has finished running, unless you explicitly export them.   \n",
    "\n",
    "```{tip}\n",
    "To see a list of all current environmental variables, you can use `env` in the commandline.\n",
    "```\n",
    "Here are some key *special internal variables* in shell scripts : \n",
    "\n",
    "| Variable      | Description |\n",
    "| ----------- | ----------- |\n",
    "| `$0`      | The filename (basename) of the current script, including any extension |\n",
    "| `$n` (`$1...$9`)   |Here `n` is an integer corresponding to the position of an argument (the first argument is `$1`, the second is `$2`, etc). |\n",
    "|\t`$#` | The number of arguments (parameters) supplied to a script (the script was \"called\" with)|\n",
    "|\t`$@` | All the arguments are individually printed. For example, if a script receives two arguments, `$@` is equivalent to `$1` `$2`|\n",
    "\n",
    "This is not an exhaustive list, but the important ones to remember in basic shell scripting.\n",
    "\n",
    "### Assigned Variables\n",
    "\n",
    "These are assigned manually by the user. These are present within the current instance of the shell only and are not available any child processes spawned started by the script unless they are explicitly exported.\n",
    "\n",
    "In general, assigned variables in the bash language are analogous to those in any other programming language (e.g., [Python](05-Python_I:Python-variables)): they can be a number, a character, a string of characters, or boolean (true/false). There are three ways to assign values to such variables (note lack of spaces!):\n",
    "\n",
    "1.  Explicit declaration: `MY_VAR=myvalue`\n",
    "2.  Reading from the user input (the script will wait for the value to be provided): `read MY_VAR`\n",
    "3.  Command substitution: `MY_VAR=$(command)` (the variable is the output of some `command`); e.g., `MY_VAR=$( (ls | wc -l) )`\n",
    "\n",
    "```{tip}\n",
    "The command substitution of the type MY_VAR=$(command) is one type of \"shell expansion\". There are several types of shell expansions, which you can learn about [here](https://www.gnu.org/software/bash/manual/html_node/Shell-Expansions.html). Along with command substitution, [shell parameter expansion](https://www.gnu.org/software/bash/manual/html_node/Shell-Parameter-Expansion.html) is particularly important to learn about in shell scripting. \n",
    "```"
   ]
  },
  {
   "cell_type": "markdown",
   "metadata": {},
   "source": [
    "### Some examples of variables\n",
    "\n",
    "Here is an example illustrating the different types of shell variables (and assignments):\n",
    "\n",
    "```bash\n",
    "#!/bin/sh\n",
    "\n",
    "## Illustrates the use of variables \n",
    "\n",
    "# Special variables\n",
    "\n",
    "echo \"This script was called with $# parameters\"\n",
    "echo \"The script's name is $0\"\n",
    "echo \"The arguments are $@\"\n",
    "echo \"The first argument is $1\"\n",
    "echo \"The second argument is $2\"\n",
    "\n",
    "# Assigned Variables; Explicit declaration:\n",
    "MY_VAR='some string' \n",
    "echo 'the current value of the variable is:' $MY_VAR\n",
    "echo\n",
    "echo 'Please enter a new string'\n",
    "read MY_VAR\n",
    "echo\n",
    "echo 'the current value of the variable is:' $MY_VAR\n",
    "echo\n",
    "\n",
    "## Assigned Variables; Reading (multiple values) from user input:\n",
    "echo 'Enter two numbers separated by space(s)'\n",
    "read a b\n",
    "echo\n",
    "echo 'you entered' $a 'and' $b '; Their sum is:'\n",
    "\n",
    "## Assigned Variables; Command substitution\n",
    "MY_SUM=$(expr $a + $b)\n",
    "echo $MY_SUM\n",
    "```\n",
    "\n",
    "$\\star$ Save this as a single  `variables.sh` script. \n",
    "\n",
    "$\\star$ Now run this script with any arguments:\n",
    "\n",
    "```bash\n",
    "bash variables.sh\n",
    "```\n",
    "\n",
    "$\\star$ And compare the output when run with two arguments:\n",
    "\n",
    "```bash\n",
    "bash variables.sh 1 two\n",
    "```"
   ]
  },
  {
   "cell_type": "markdown",
   "metadata": {},
   "source": [
    "And also type into another script file  the following (save as `MyExampleScript.sh`) and run it:\n",
    "\n",
    "```bash\n",
    "#!/bin/sh\n",
    "\n",
    "MSG1=\"Hello\"\n",
    "MSG2=$USER\n",
    "echo \"$MSG1 $MSG2\"\n",
    "echo \"Hello $USER\"\n",
    "echo\n",
    "```\n",
    "\n",
    "This introduces you to the `$USER` (same as `$USERNAME`) environmental variable. "
   ]
  },
  {
   "cell_type": "markdown",
   "metadata": {},
   "source": [
    "## A useful shell-scripting example\n",
    "\n",
    "Let's write a shell script to transform comma-separated files (csv) to tab-separated files and vice-versa. This can be handy — for example, in certain computer languages, it is much easier to read tab or space\n",
    "separated files than csv (e.g., `C`)\n",
    "\n",
    "To do this, in the bash we can use `tr` (abbreviation of `tr`anslate or `tr`ansliterate), which deletes or substitute characters. Here are some examples."
   ]
  },
  {
   "cell_type": "code",
   "execution_count": 2,
   "metadata": {},
   "outputs": [
    {
     "name": "stdout",
     "output_type": "stream",
     "text": [
      "Remove excess spaces.\n"
     ]
    }
   ],
   "source": [
    "echo \"Remove    excess      spaces.\" | tr -s \" \""
   ]
  },
  {
   "cell_type": "code",
   "execution_count": 3,
   "metadata": {
    "scrolled": true
   },
   "outputs": [
    {
     "name": "stdout",
     "output_type": "stream",
     "text": [
      "remove ll the 's\n"
     ]
    }
   ],
   "source": [
    "echo \"remove all the a's\" | tr -d \"a\""
   ]
  },
  {
   "cell_type": "code",
   "execution_count": 4,
   "metadata": {
    "scrolled": true
   },
   "outputs": [
    {
     "name": "stdout",
     "output_type": "stream",
     "text": [
      "SET TO UPPERCASE\n"
     ]
    }
   ],
   "source": [
    "echo \"set to uppercase\" | tr [:lower:] [:upper:]"
   ]
  },
  {
   "cell_type": "code",
   "execution_count": 5,
   "metadata": {},
   "outputs": [
    {
     "name": "stdout",
     "output_type": "stream",
     "text": [
      "10.00,1.33\n"
     ]
    }
   ],
   "source": [
    "echo \"10.00 only numbers 1.33\" | tr -d [:alpha:] | tr -s \" \" \",\""
   ]
  },
  {
   "cell_type": "markdown",
   "metadata": {},
   "source": [
    "Now write a shell script to substitute all tabs with commas called `tabtocsv.sh`:\n",
    "\n",
    "```bash\n",
    "#!/bin/sh\n",
    "# Author: Your name you.login@imperial.ac.uk\n",
    "# Script: tabtocsv.sh\n",
    "# Description: substitute the tabs in the files with commas\n",
    "#\n",
    "# Saves the output into a .csv file\n",
    "# Arguments: 1 -> tab delimited file\n",
    "# Date: Oct 2019\n",
    "\n",
    "echo \"Creating a comma delimited version of $1 ...\"\n",
    "cat $1 | tr -s \"\\t\" \",\" >> $1.csv\n",
    "echo \"Done!\"\n",
    "exit\n",
    "```\n",
    "\n",
    "Now test it (note where the output file gets saved and why). First create a text file with tab-separated text:"
   ]
  },
  {
   "cell_type": "code",
   "execution_count": 6,
   "metadata": {},
   "outputs": [],
   "source": [
    "echo -e \"test \\t\\t test\" >> ../sandbox/test.txt # again, note the relative path!"
   ]
  },
  {
   "cell_type": "markdown",
   "metadata": {},
   "source": [
    "Now run your script on it"
   ]
  },
  {
   "cell_type": "code",
   "execution_count": 7,
   "metadata": {},
   "outputs": [
    {
     "name": "stdout",
     "output_type": "stream",
     "text": [
      "Creating a comma delimited version of ../sandbox/test.txt ...\n",
      "Done!\n"
     ]
    }
   ],
   "source": [
    "bash tabtocsv.sh ../sandbox/test.txt"
   ]
  },
  {
   "cell_type": "markdown",
   "metadata": {},
   "source": [
    "Note that\n",
    "\n",
    "* `$1` is the way a shell script defines a placeholder for a variable (in this case the filename). See next section for more on variable names in shell scripts. \n",
    "\n",
    "* The new file gets saved in the same location as the original (*Why is that?*)\n",
    "\n",
    "* The file got saved with a `.txt.csv` extension. That's not very nice. Later you will get an opportunity to fix this!"
   ]
  },
  {
   "cell_type": "markdown",
   "metadata": {},
   "source": [
    "## Some more examples\n",
    "\n",
    "Here are a few more illustrative examples (test each one out, save in `week1/code/` with the given name):\n",
    "\n",
    "### Count lines in a file\n",
    "\n",
    "Save this as `CountLines.sh`:\n",
    "\n",
    "```bash\n",
    "#!/bin/bash\n",
    "\n",
    "NumLines=`wc -l < $1`\n",
    "echo \"The file $1 has $NumLines lines\"\n",
    "echo\n",
    "```\n",
    "The `<` redirects the contents of the file to the stdin ([standard input](https://en.wikipedia.org/wiki/Standard_streams)) of the command `wc -l`. It is needed here because without it, you would not be able to catch *just* the numerical output (number of lines). To see this, try deleting `<` from the script and see what the output looks like (it will also print the script name, which you do not want).   \n",
    "\n",
    "#### Concatenate the contents of two files\n",
    "\n",
    "Save this as `ConcatenateTwoFiles.sh`:\n",
    "\n",
    "```bash\n",
    "#!/bin/bash\n",
    "\n",
    "cat $1 > $3\n",
    "cat $2 >> $3\n",
    "echo \"Merged File is\"\n",
    "cat $3\n",
    "```\n",
    "\n",
    "### Convert tiff to png\n",
    "\n",
    "This assumes you have done `apt install imagemagick` (remember `sudo`!) \n",
    "\n",
    "Save this as `tiff2png.sh`:\n",
    "\n",
    "```bash\n",
    "#!/bin/bash\n",
    "\n",
    "for f in *.tif; \n",
    "    do  \n",
    "        echo \"Converting $f\"; \n",
    "        convert \"$f\"  \"$(basename \"$f\" .tif).png\"; \n",
    "    done\n",
    "```"
   ]
  },
  {
   "cell_type": "markdown",
   "metadata": {},
   "source": [
    "---\n",
    "\n",
    ":::{figure-md} XKCD-shell-script\n",
    "<img src=\"./graphics/universal_install_script.png\" alt=\"XKCD \" width=\"300px\">\n",
    "\n",
    "**This is not a good use of shell scripting!** <br>(Source: [XKCD](https://xkcd.com/1654/))\n",
    "\n",
    ":::\n",
    "\n",
    "---\n"
   ]
  },
  {
   "cell_type": "markdown",
   "metadata": {},
   "source": [
    "## Practicals\n",
    "\n",
    "### Instructions\n",
    "\n",
    "* Along with the completeness of the practicals/exercises themselves, you will be marked on the basis of how complete and well-organized your directory structure and content is.\n",
    "\n",
    "* Review (especially if you got lost along the way) and make sure all the shell scripts you created in this chapter are functional.\n",
    "\n",
    "* Make sure you have your weekly directory organized with `data`, `sandbox`, `code` with the necessary files, under ` CMEECourseWork/week1`.\n",
    "\n",
    "* *All scripts should run on any other Unix/Linux machine* — for example, always call data from the `data` directory using relative paths.\n",
    "\n",
    "* Make sure there is a `readme` file in every week's directory. This file should give an overview of the weekly directory contents, listing all the scripts and what they do. This is different from the `readme` for your overall git repository, of which `Week 1` is a part. You will write a similar ` readme` for each subsequent weekly submission.\n",
    "\n",
    "* Don't put any scripts that are part of the submission in your `home/bin` directory! You can put a copy there, but a working version should be in your repository.\n",
    "\n",
    "### Improving scripts\n",
    "\n",
    "Note that some of the shell scripts that you have created in this chapter above requires input files. For example, `tabtocsv.sh` needs one input file, and `ConcatenateTwoFiles.sh` needs two. When you run any of these scripts without inputs (e.g., just `bash tabtocsv.sh`), you either get no result, or an error. \n",
    "\n",
    "* The goal of this exercise is to make each such script robust so that it gives feedback to the user and exits if the right inputs are not provided.\n",
    "\n",
    "### A new shell script\n",
    "\n",
    "* Write a `csvtospace.sh` shell script that takes a `c`omma `s`eparated `v`alues and converts it to a space separated values file. However, it must not change the input file — it should save it as a differently named file.\n",
    "\n",
    "* This script should be able to handle wrong or missing inputs (similar to the previous exercise). \n",
    "\n",
    "* Save the script in `CMEECourseWork/week1/code`, and run it on the `csv` data files that are in `Temperatures` in the master repository's `Data` directory.\n",
    "\n",
    "```{hint}\n",
    "In these shell scripting practicals, to strip out and/or change file extensions, you may need to use parameter expansions, and specifically, parameter substitutions, along with pattern matching. Read about these and try out the examples [here](https://www.gnu.org/software/bash/manual/html_node/Shell-Parameter-Expansion.html) and [here](https://www.gnu.org/software/bash/manual/html_node/Pattern-Matching.html).\n",
    "```"
   ]
  },
  {
   "cell_type": "markdown",
   "metadata": {},
   "source": [
    "## Readings & Resources\n",
    "\n",
    "* The bash reference manual: [https://www.gnu.org/software/bash/manual/bash.html](https://www.gnu.org/software/bash/manual/bash.html)\n",
    "\n",
    "* Plenty of shell scripting resources and tutorials out there; in particular, look up\n",
    "[http://www.tutorialspoint.com/unix/unix-using-variables.htm](http://www.tutorialspoint.com/unix/unix-using-variables.htm)\n",
    "\n",
    "* These is a relatively intuitive set of notes on shell scripting; [https://www.shellscript.sh/](https://www.shellscript.sh/)\n",
    "\n",
    "* Some shell scripting [examples](https://linuxhint.com/30_bash_script_examples)"
   ]
  }
 ],
 "metadata": {
  "kernelspec": {
   "display_name": "Bash",
   "language": "bash",
   "name": "bash"
  },
  "language_info": {
   "codemirror_mode": "shell",
   "file_extension": ".sh",
   "mimetype": "text/x-sh",
   "name": "bash"
  },
  "latex_envs": {
   "LaTeX_envs_menu_present": true,
   "autoclose": false,
   "autocomplete": false,
   "bibliofile": "biblio.bib",
   "cite_by": "apalike",
   "current_citInitial": 1,
   "eqLabelWithNumbers": true,
   "eqNumInitial": 1,
   "hotkeys": {
    "equation": "Ctrl-E",
    "itemize": "Ctrl-I"
   },
   "labels_anchors": false,
   "latex_user_defs": false,
   "report_style_numbering": false,
   "user_envs_cfg": false
  },
  "toc": {
   "base_numbering": 1,
   "nav_menu": {},
   "number_sections": true,
   "sideBar": false,
   "skip_h1_title": false,
   "title_cell": "Contents",
   "title_sidebar": "Contents",
   "toc_cell": false,
   "toc_position": {
    "height": "471px",
    "left": "1024px",
    "top": "144px",
    "width": "256px"
   },
   "toc_section_display": false,
   "toc_window_display": false
  }
 },
 "nbformat": 4,
 "nbformat_minor": 4
}
